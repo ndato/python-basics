{
  "nbformat": 4,
  "nbformat_minor": 0,
  "metadata": {
    "colab": {
      "name": "Basic Python Activities",
      "provenance": [],
      "collapsed_sections": [],
      "authorship_tag": "ABX9TyNAjvmS4OB3fdfbsJfBc5kQ",
      "include_colab_link": true
    },
    "kernelspec": {
      "name": "python3",
      "display_name": "Python 3"
    }
  },
  "cells": [
    {
      "cell_type": "markdown",
      "metadata": {
        "id": "view-in-github",
        "colab_type": "text"
      },
      "source": [
        "<a href=\"https://colab.research.google.com/github/ndato/python-basics/blob/master/Basic_Python_Activities.ipynb\" target=\"_parent\"><img src=\"https://colab.research.google.com/assets/colab-badge.svg\" alt=\"Open In Colab\"/></a>"
      ]
    },
    {
      "cell_type": "markdown",
      "metadata": {
        "id": "EEXtlQSS1jm2",
        "colab_type": "text"
      },
      "source": [
        "###**EXERCISE 1**\n",
        "Your first \"Hello World\" program!"
      ]
    },
    {
      "cell_type": "code",
      "metadata": {
        "id": "h-qeBI2LnwPx",
        "colab_type": "code",
        "outputId": "c49e1894-cf89-401c-dfbb-a8303f007f78",
        "colab": {
          "base_uri": "https://localhost:8080/",
          "height": 51
        }
      },
      "source": [
        "name = input(\"What is your name?: \")\n",
        "print(\"My name is\", name)"
      ],
      "execution_count": 3,
      "outputs": [
        {
          "output_type": "stream",
          "text": [
            "What is your name?: Tupac Shakur\n",
            "My name is Tupac Shakur\n"
          ],
          "name": "stdout"
        }
      ]
    },
    {
      "cell_type": "markdown",
      "metadata": {
        "colab_type": "text",
        "id": "rGvhY3N_2iGo"
      },
      "source": [
        "###**EXERCISE 2**"
      ]
    },
    {
      "cell_type": "code",
      "metadata": {
        "colab_type": "code",
        "outputId": "c49e1894-cf89-401c-dfbb-a8303f007f78",
        "id": "KMHwlBMI20yj",
        "colab": {
          "base_uri": "https://localhost:8080/",
          "height": 51
        }
      },
      "source": [
        "name = input(\"What is your name?: \")\n",
        "print(\"My name is\", name)"
      ],
      "execution_count": 0,
      "outputs": [
        {
          "output_type": "stream",
          "text": [
            "What is your name?: Tupac Shakur\n",
            "My name is Tupac Shakur\n"
          ],
          "name": "stdout"
        }
      ]
    },
    {
      "cell_type": "markdown",
      "metadata": {
        "colab_type": "text",
        "id": "r2yubP072g_b"
      },
      "source": [
        "###**EXERCISE 3**"
      ]
    },
    {
      "cell_type": "code",
      "metadata": {
        "colab_type": "code",
        "outputId": "c49e1894-cf89-401c-dfbb-a8303f007f78",
        "id": "BcbYoem621EW",
        "colab": {
          "base_uri": "https://localhost:8080/",
          "height": 51
        }
      },
      "source": [
        "name = input(\"What is your name?: \")\n",
        "print(\"My name is\", name)"
      ],
      "execution_count": 0,
      "outputs": [
        {
          "output_type": "stream",
          "text": [
            "What is your name?: Tupac Shakur\n",
            "My name is Tupac Shakur\n"
          ],
          "name": "stdout"
        }
      ]
    },
    {
      "cell_type": "markdown",
      "metadata": {
        "colab_type": "text",
        "id": "GJeAhot52ryg"
      },
      "source": [
        "###**EXERCISE 4**"
      ]
    },
    {
      "cell_type": "code",
      "metadata": {
        "colab_type": "code",
        "outputId": "c49e1894-cf89-401c-dfbb-a8303f007f78",
        "id": "LWcoo_8521dH",
        "colab": {
          "base_uri": "https://localhost:8080/",
          "height": 51
        }
      },
      "source": [
        "name = input(\"What is your name?: \")\n",
        "print(\"My name is\", name)"
      ],
      "execution_count": 0,
      "outputs": [
        {
          "output_type": "stream",
          "text": [
            "What is your name?: Tupac Shakur\n",
            "My name is Tupac Shakur\n"
          ],
          "name": "stdout"
        }
      ]
    },
    {
      "cell_type": "markdown",
      "metadata": {
        "colab_type": "text",
        "id": "V4WQjEQk2s-a"
      },
      "source": [
        "###**EXERCISE 5**"
      ]
    },
    {
      "cell_type": "code",
      "metadata": {
        "colab_type": "code",
        "outputId": "c49e1894-cf89-401c-dfbb-a8303f007f78",
        "id": "eQpKEe1T21qZ",
        "colab": {
          "base_uri": "https://localhost:8080/",
          "height": 51
        }
      },
      "source": [
        "name = input(\"What is your name?: \")\n",
        "print(\"My name is\", name)"
      ],
      "execution_count": 0,
      "outputs": [
        {
          "output_type": "stream",
          "text": [
            "What is your name?: Tupac Shakur\n",
            "My name is Tupac Shakur\n"
          ],
          "name": "stdout"
        }
      ]
    },
    {
      "cell_type": "markdown",
      "metadata": {
        "colab_type": "text",
        "id": "6u2EMIZP2tS_"
      },
      "source": [
        "###**EXERCISE 6**"
      ]
    },
    {
      "cell_type": "code",
      "metadata": {
        "colab_type": "code",
        "outputId": "c49e1894-cf89-401c-dfbb-a8303f007f78",
        "id": "ZqY6D5Pv217u",
        "colab": {
          "base_uri": "https://localhost:8080/",
          "height": 51
        }
      },
      "source": [
        "name = input(\"What is your name?: \")\n",
        "print(\"My name is\", name)"
      ],
      "execution_count": 0,
      "outputs": [
        {
          "output_type": "stream",
          "text": [
            "What is your name?: Tupac Shakur\n",
            "My name is Tupac Shakur\n"
          ],
          "name": "stdout"
        }
      ]
    },
    {
      "cell_type": "markdown",
      "metadata": {
        "colab_type": "text",
        "id": "bZCSXTtY2tWF"
      },
      "source": [
        "###**EXERCISE 7**"
      ]
    },
    {
      "cell_type": "code",
      "metadata": {
        "colab_type": "code",
        "outputId": "c49e1894-cf89-401c-dfbb-a8303f007f78",
        "id": "U0sgT2pS22Tp",
        "colab": {
          "base_uri": "https://localhost:8080/",
          "height": 51
        }
      },
      "source": [
        "name = input(\"What is your name?: \")\n",
        "print(\"My name is\", name)"
      ],
      "execution_count": 0,
      "outputs": [
        {
          "output_type": "stream",
          "text": [
            "What is your name?: Tupac Shakur\n",
            "My name is Tupac Shakur\n"
          ],
          "name": "stdout"
        }
      ]
    },
    {
      "cell_type": "markdown",
      "metadata": {
        "colab_type": "text",
        "id": "v_eVHJbE2tZk"
      },
      "source": [
        "###**EXERCISE 8**"
      ]
    },
    {
      "cell_type": "code",
      "metadata": {
        "colab_type": "code",
        "outputId": "c49e1894-cf89-401c-dfbb-a8303f007f78",
        "id": "TKxUpPbI22k8",
        "colab": {
          "base_uri": "https://localhost:8080/",
          "height": 51
        }
      },
      "source": [
        "name = input(\"What is your name?: \")\n",
        "print(\"My name is\", name)"
      ],
      "execution_count": 0,
      "outputs": [
        {
          "output_type": "stream",
          "text": [
            "What is your name?: Tupac Shakur\n",
            "My name is Tupac Shakur\n"
          ],
          "name": "stdout"
        }
      ]
    }
  ]
}